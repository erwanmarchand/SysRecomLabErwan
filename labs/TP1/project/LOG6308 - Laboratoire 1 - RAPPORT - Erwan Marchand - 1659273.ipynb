{
 "cells": [
  {
   "cell_type": "markdown",
   "metadata": {},
   "source": [
    "Initialisation des données"
   ]
  },
  {
   "cell_type": "code",
   "execution_count": 4,
   "metadata": {
    "collapsed": true
   },
   "outputs": [],
   "source": [
    "rm(list = ls())\n",
    "\n",
    "library(Matrix)\n",
    "\n",
    "u.data <- read.csv(file='u.data.csv', sep='|', header=T)\n",
    "u.item <- read.csv(file='u.item.csv', sep='|', header=T)\n",
    "u.user <- read.csv(file='u.user.csv', sep='|', header=T)\n",
    "\n",
    "m1 <- sparseMatrix(u.data$user.id,u.data$item.id,x=u.data$rating)\n",
    "rownames(m1) <- paste('u', 1:nrow(m1), sep='')\n",
    "colnames(m1) <- paste('i', 1:ncol(m1), sep='')\n",
    "\n",
    "m <- as.matrix(m1)\n",
    "\n",
    "m[m==0] <- NA\n",
    "\n",
    "\n",
    "mx <- merge(u.user, u.data, 1)"
   ]
  },
  {
   "cell_type": "markdown",
   "metadata": {},
   "source": [
    "1) Quelle est la moyenne des votes par profession (\"job\") et par âge?"
   ]
  },
  {
   "cell_type": "markdown",
   "metadata": {},
   "source": [
    "    moyenne par profession :"
   ]
  },
  {
   "cell_type": "code",
   "execution_count": 5,
   "metadata": {
    "scrolled": true
   },
   "outputs": [
    {
     "data": {
      "text/html": [
       "<table>\n",
       "<thead><tr><th scope=col>job</th><th scope=col>mean Rating</th></tr></thead>\n",
       "<tbody>\n",
       "\t<tr><td>administrator</td><td>3.635646     </td></tr>\n",
       "\t<tr><td>artist       </td><td>3.653380     </td></tr>\n",
       "\t<tr><td>doctor       </td><td>3.688889     </td></tr>\n",
       "\t<tr><td>educator     </td><td>3.670621     </td></tr>\n",
       "\t<tr><td>engineer     </td><td>3.541407     </td></tr>\n",
       "\t<tr><td>entertainment</td><td>3.441050     </td></tr>\n",
       "</tbody>\n",
       "</table>\n"
      ],
      "text/latex": [
       "\\begin{tabular}{r|ll}\n",
       " job & mean Rating\\\\\n",
       "\\hline\n",
       "\t administrator & 3.635646     \\\\\n",
       "\t artist        & 3.653380     \\\\\n",
       "\t doctor        & 3.688889     \\\\\n",
       "\t educator      & 3.670621     \\\\\n",
       "\t engineer      & 3.541407     \\\\\n",
       "\t entertainment & 3.441050     \\\\\n",
       "\\end{tabular}\n"
      ],
      "text/markdown": [
       "\n",
       "job | mean Rating | \n",
       "|---|---|---|---|---|---|\n",
       "| administrator | 3.635646      | \n",
       "| artist        | 3.653380      | \n",
       "| doctor        | 3.688889      | \n",
       "| educator      | 3.670621      | \n",
       "| engineer      | 3.541407      | \n",
       "| entertainment | 3.441050      | \n",
       "\n",
       "\n"
      ],
      "text/plain": [
       "  job           mean Rating\n",
       "1 administrator 3.635646   \n",
       "2 artist        3.653380   \n",
       "3 doctor        3.688889   \n",
       "4 educator      3.670621   \n",
       "5 engineer      3.541407   \n",
       "6 entertainment 3.441050   "
      ]
     },
     "metadata": {},
     "output_type": "display_data"
    }
   ],
   "source": [
    "meanPerJob <-aggregate(mx[, 7], list(mx$job), mean)\n",
    "colnames(meanPerJob) <- c(\"job\",\"mean Rating\")\n",
    "head(meanPerJob)"
   ]
  },
  {
   "cell_type": "markdown",
   "metadata": {},
   "source": [
    "    moyenne par age :"
   ]
  },
  {
   "cell_type": "code",
   "execution_count": 6,
   "metadata": {},
   "outputs": [
    {
     "data": {
      "text/html": [
       "<table>\n",
       "<thead><tr><th scope=col>age</th><th scope=col>mean Rating</th></tr></thead>\n",
       "<tbody>\n",
       "\t<tr><td> 7      </td><td>3.767442</td></tr>\n",
       "\t<tr><td>10      </td><td>3.387097</td></tr>\n",
       "\t<tr><td>11      </td><td>2.925926</td></tr>\n",
       "\t<tr><td>13      </td><td>3.470825</td></tr>\n",
       "\t<tr><td>14      </td><td>3.375000</td></tr>\n",
       "\t<tr><td>15      </td><td>3.264484</td></tr>\n",
       "</tbody>\n",
       "</table>\n"
      ],
      "text/latex": [
       "\\begin{tabular}{r|ll}\n",
       " age & mean Rating\\\\\n",
       "\\hline\n",
       "\t  7       & 3.767442\\\\\n",
       "\t 10       & 3.387097\\\\\n",
       "\t 11       & 2.925926\\\\\n",
       "\t 13       & 3.470825\\\\\n",
       "\t 14       & 3.375000\\\\\n",
       "\t 15       & 3.264484\\\\\n",
       "\\end{tabular}\n"
      ],
      "text/markdown": [
       "\n",
       "age | mean Rating | \n",
       "|---|---|---|---|---|---|\n",
       "|  7       | 3.767442 | \n",
       "| 10       | 3.387097 | \n",
       "| 11       | 2.925926 | \n",
       "| 13       | 3.470825 | \n",
       "| 14       | 3.375000 | \n",
       "| 15       | 3.264484 | \n",
       "\n",
       "\n"
      ],
      "text/plain": [
       "  age mean Rating\n",
       "1  7  3.767442   \n",
       "2 10  3.387097   \n",
       "3 11  2.925926   \n",
       "4 13  3.470825   \n",
       "5 14  3.375000   \n",
       "6 15  3.264484   "
      ]
     },
     "metadata": {},
     "output_type": "display_data"
    }
   ],
   "source": [
    "meanPerAge <-aggregate(mx[, 7], list(mx$age), mean)\n",
    "colnames(meanPerAge) <- c(\"age\",\"mean Rating\")\n",
    "head(meanPerAge)"
   ]
  }
 ],
 "metadata": {
  "kernelspec": {
   "display_name": "R",
   "language": "R",
   "name": "ir"
  },
  "language_info": {
   "codemirror_mode": "r",
   "file_extension": ".r",
   "mimetype": "text/x-r-source",
   "name": "R",
   "pygments_lexer": "r",
   "version": "3.4.1"
  },
  "widgets": {
   "application/vnd.jupyter.widget-state+json": {
    "state": {},
    "version_major": 2,
    "version_minor": 0
   }
  }
 },
 "nbformat": 4,
 "nbformat_minor": 2
}
